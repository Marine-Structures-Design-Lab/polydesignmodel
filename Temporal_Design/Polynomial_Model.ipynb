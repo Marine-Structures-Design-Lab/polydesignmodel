{
 "cells": [
  {
   "cell_type": "markdown",
   "id": "d463e297-5f8a-464b-8398-8d3fa00d71cd",
   "metadata": {
    "tags": []
   },
   "source": [
    "# **Polynomial Model**\n",
    "\n",
    "![Alternative Text](Temporal_Decisions.png)\n",
    "$$x_1+x_2=x_3$$\n",
    "$$x_3-x_4^2=x_5$$\n",
    "$$2x_2+x_4=x_6$$\n",
    "$$x_5+\\sqrt{x_6}-x_7=x_8$$\n",
    "$$x_8-2(x_9+x_1^3)=x_{10}$$\n",
    "\n",
    "The ultimate goal is to determine the percentage of variables that converge into their acceptable ranges based on the order in which the analyses are performed.  The ranges for the alotted variables are given below.  These ranges would act in a similar manner as rules and/or requirements in a vessel design.\n",
    "\n",
    "$$1 \\leq x_1 < 5$$\n",
    "$$1 \\leq x_2 < 5$$\n",
    "$$0 \\leq x_3 < 8.5$$\n",
    "$$0.5 \\leq x_4 < 6$$\n",
    "$$-2 \\leq x_5 < 9$$\n",
    "$$1.5 \\leq x_6 < 10$$\n",
    "$$-3.5 \\leq x_7 < 4$$\n",
    "$$-3.5 \\leq x_8 < 2.5$$\n",
    "$$-4 \\leq x_9 < 3$$\n",
    "$$1 \\leq x_{10} < 10$$\n",
    "\n",
    "The polynomial model runs its analyses in 4 different orders: (1) 1,2,3,4; (2) 2,1,3,4; (3) 3,4,1-2, (4) 4,1,2-3.  Each of the paths will start by creating 10,000 different sets of input variables within the ranges shown above, and the other values will be backed out based on the provided equations.  At the end of each of path assessment, all ten variables will be evaluated to see what percentage of the 10 variables fall within their alotted range.  The inputs will always fall within the range as they are given values randomly within their known bounds.  The outputs will fall within or out of range based on the combination of inputs chosen."
   ]
  },
  {
   "cell_type": "markdown",
   "id": "dda7bcd1-e246-4d62-84e5-f34278091b3f",
   "metadata": {},
   "source": [
    "***\n",
    "***\n",
    "***"
   ]
  },
  {
   "cell_type": "markdown",
   "id": "b35a9942-1811-4fc4-b0a8-2b731cd0a4e0",
   "metadata": {
    "tags": []
   },
   "source": [
    "### Libraries"
   ]
  },
  {
   "cell_type": "code",
   "execution_count": 1,
   "id": "65ad9faf-4ba2-4228-b582-d3aa7925cf1d",
   "metadata": {},
   "outputs": [],
   "source": [
    "import numpy as np\n",
    "import matplotlib.pyplot as plt"
   ]
  },
  {
   "cell_type": "markdown",
   "id": "6bdc4c00-d32f-445a-840c-5bfcc297a46c",
   "metadata": {},
   "source": [
    "***"
   ]
  },
  {
   "cell_type": "markdown",
   "id": "39600eed-32d5-44be-b705-58a793df96ac",
   "metadata": {},
   "source": [
    "### Input Variable Subroutine\n",
    "\n",
    "*Creating the random values for the necessary inputs based on the chosen path and known variable bounds.*"
   ]
  },
  {
   "cell_type": "code",
   "execution_count": 2,
   "id": "e3b883d0-056a-40ab-ab54-630561351c6e",
   "metadata": {},
   "outputs": [],
   "source": [
    "def random_inputs(Path, var, runs, input_vars, x1_lwr, x1_upr, x2_lwr, x2_upr, x3_lwr, x3_upr, x4_lwr, x4_upr,\\\n",
    "                  x5_lwr, x5_upr, x6_lwr, x6_upr, x7_lwr, x7_upr, x8_lwr, x8_upr, x9_lwr, x9_upr, x10_lwr, x10_upr):\n",
    "    \n",
    "    # Create random input variables based on the path info\n",
    "    for i in range(0,len(Path1)):\n",
    "        if input_vars[0] == 1:\n",
    "            Path[i,0] = np.random.uniform(x1_lwr,x1_upr)\n",
    "        if input_vars[1] == 1:\n",
    "            Path[i,1] = np.random.uniform(x2_lwr,x2_upr)\n",
    "        if input_vars[2] == 1:\n",
    "            Path[i,2] = np.random.uniform(x3_lwr,x3_upr)\n",
    "        if input_vars[3] == 1:\n",
    "            Path[i,3] = np.random.uniform(x4_lwr,x4_upr)\n",
    "        if input_vars[4] == 1:\n",
    "            Path[i,4] = np.random.uniform(x5_lwr,x5_upr)\n",
    "        if input_vars[5] == 1:\n",
    "            Path[i,5] = np.random.uniform(x6_lwr,x6_upr)\n",
    "        if input_vars[6] == 1:\n",
    "            Path[i,6] = np.random.uniform(x7_lwr,x7_upr)\n",
    "        if input_vars[7] == 1:\n",
    "            Path[i,7] = np.random.uniform(x8_lwr,x8_upr)\n",
    "        if input_vars[8] == 1:\n",
    "            Path[i,8] = np.random.uniform(x9_lwr,x9_upr)\n",
    "        if input_vars[9] == 1:\n",
    "            Path[i,9] = np.random.uniform(x10_lwr,x10_upr)\n",
    "    \n",
    "    # Return path matrix\n",
    "    return Path"
   ]
  },
  {
   "cell_type": "markdown",
   "id": "d8e3ce8a-32b6-47e5-93cd-c9b2ebf9f819",
   "metadata": {
    "tags": []
   },
   "source": [
    "### Analysis Subroutines\n",
    "\n",
    "*Defining the analysis functions that will be called on later.*"
   ]
  },
  {
   "cell_type": "code",
   "execution_count": 3,
   "id": "52a3d4db-9466-4945-a71a-e1e0891e28bf",
   "metadata": {},
   "outputs": [],
   "source": [
    "# Analysis 1 - forward and backward\n",
    "def analysis1(number1, number2):\n",
    "    number3 = number1 + number2\n",
    "    return number3\n",
    "\n",
    "def analysis1_back(number3, number1or2):\n",
    "    number2or1 = number3 - number1or2\n",
    "    return number2or1\n",
    "\n",
    "\n",
    "# Analysis 1 & 2 Combined\n",
    "def analysis12(number1, number5, number6):\n",
    "    number4 = ((-1/2) + ((1/2)**2 - 4*1*(number5 - number1 - number6/2))**(1/2)) / (2*1)\n",
    "    return number4\n",
    "\n",
    "\n",
    "# Analysis 2\n",
    "def analysis2(number2, number3, number4):\n",
    "    number5 = number3 - number4**2\n",
    "    number6 = 2*number2 + number4\n",
    "    return number5, number6\n",
    "\n",
    "def analysis2_back4(number5, number6, number4):\n",
    "    number2 = (number6 - number4) / 2\n",
    "    number3 = number5 + number4**2\n",
    "    return number2, number3\n",
    "    \n",
    "\n",
    "# Analysis 3\n",
    "def analysis3(number5, number6, number7):\n",
    "    number8 = number5 + number6**(1/2) - number7\n",
    "    return number8\n",
    "\n",
    "def analysis3_back7(number5, number6, number8):\n",
    "    number7 = number5 + number6**(1/2) - number8\n",
    "    return number7\n",
    "\n",
    "\n",
    "# Analysis 4\n",
    "def analysis4(number8, number9, number1):\n",
    "    number10 = number8 - 2*(number9 + number1**3)\n",
    "    return number10"
   ]
  },
  {
   "cell_type": "markdown",
   "id": "016c324c-1803-40b7-bc19-51c53e50770b",
   "metadata": {},
   "source": [
    "### Variable Checking Subroutine\n",
    "\n",
    "*Checking that the variables fall within their bounds and the exact success of each run regardless for a path.*"
   ]
  },
  {
   "cell_type": "code",
   "execution_count": 4,
   "id": "df99734a-3397-43a4-b44d-04f904116319",
   "metadata": {},
   "outputs": [],
   "source": [
    "def variable_checker(Path, Path_success, Run_success, Var):\n",
    "    \n",
    "    # Set up a counting variable\n",
    "    count = 0\n",
    "    \n",
    "    # Set up successful run arrays with a single row of zeros (first row will later be deleted)\n",
    "    Path_success_10var = np.zeros((1, Var))\n",
    "    Path_success_9var = np.zeros((1, Var))\n",
    "    Path_success_8var = np.zeros((1, Var))\n",
    "    \n",
    "    # Check variable ranges and run success\n",
    "    for i in range(0,len(Path)):\n",
    "        if Path[i,0] >= 1 and Path[i,0] < 5:\n",
    "            Path_success[0] += 1\n",
    "            count += 1\n",
    "        if Path[i,1] >=1 and Path[i,1] < 5:\n",
    "            Path_success[1] += 1\n",
    "            count += 1\n",
    "        if Path[i,2] >= 0 and Path[i,2] < 8.5:\n",
    "            Path_success[2] += 1\n",
    "            count += 1\n",
    "        if Path[i,3] >= 0.5 and Path[i,3] < 6:\n",
    "            Path_success[3] += 1\n",
    "            count += 1\n",
    "        if Path[i,4] >= -2 and Path[i,4] < 9:\n",
    "            Path_success[4] += 1\n",
    "            count += 1\n",
    "        if Path[i,5] >= 1.5 and Path[i,5] < 10:\n",
    "            Path_success[5] += 1\n",
    "            count += 1\n",
    "        if Path[i,6] >= -3.5 and Path[i,6] < 4:\n",
    "            Path_success[6] += 1\n",
    "            count += 1\n",
    "        if Path[i,7] >= -3.5 and Path[i,7] < 2.5:\n",
    "            Path_success[7] += 1\n",
    "            count += 1\n",
    "        if Path[i,8] >= -4 and Path[i,8] < 3:\n",
    "            Path_success[8] += 1\n",
    "            count += 1\n",
    "        if Path[i,9] >= 1 and Path[i,9] < 10:\n",
    "            Path_success[9] += 1\n",
    "            count += 1\n",
    "        Run_success[count] += 1\n",
    "        \n",
    "        # Return vector values having at least 10, 9, 8 sucessful variables\n",
    "        if count >= 10:\n",
    "            Path_success_10var = np.append(Path_success_10var, [Path[i,:]], axis=0)\n",
    "        if count >= 9:\n",
    "            Path_success_9var = np.append(Path_success_9var, [Path[i,:]], axis=0)\n",
    "        if count >= 8:\n",
    "            Path_success_8var = np.append(Path_success_8var, [Path[i,:]], axis=0)\n",
    "        \n",
    "        # Reset the count to 0\n",
    "        count = 0\n",
    "    \n",
    "    return Path_success, Run_success, Path_success_10var, Path_success_9var, Path_success_8var"
   ]
  },
  {
   "cell_type": "markdown",
   "id": "1d180fdd-fe66-41a0-82f3-af74c3cc941f",
   "metadata": {},
   "source": [
    "### Variable Success Subroutine\n",
    "\n",
    "*Convert successful results into a percentage for each variable and each run of a path.*"
   ]
  },
  {
   "cell_type": "code",
   "execution_count": 5,
   "id": "d81b4fe8-53a2-461c-ace9-4863bca05b65",
   "metadata": {},
   "outputs": [],
   "source": [
    "def success_percent(Path, Path_success, Run_success):\n",
    "    Path_success = np.around(Path_success / len(Path) * 100, 2)\n",
    "    Run_success = np.around(Run_success / len(Path) * 100, 2)\n",
    "    return Path_success, Run_success"
   ]
  },
  {
   "cell_type": "markdown",
   "id": "9a1c19fe-2fbf-418e-940b-302ff4805bce",
   "metadata": {},
   "source": [
    "***\n",
    "***\n",
    "***"
   ]
  },
  {
   "cell_type": "markdown",
   "id": "f0f96455-be19-4bc8-8668-93a8ec309fdc",
   "metadata": {},
   "source": [
    "## **One-Step Sequential Model**\n",
    "\n",
    "*No knowledge generation - No rework - No modifiable path selection - No concurrent engineering - No set based approaches - No proactive path metrics*"
   ]
  },
  {
   "cell_type": "markdown",
   "id": "f2a553b2-52b4-4cdf-ba6f-4b3eab36e449",
   "metadata": {},
   "source": [
    "### Random Inputs\n",
    "\n",
    "*Assigning random float values to the necessary inputs of each path within the respective variable bounds.*"
   ]
  },
  {
   "cell_type": "code",
   "execution_count": 6,
   "id": "e12582da-59df-4a34-81c6-c187b0a48a19",
   "metadata": {},
   "outputs": [],
   "source": [
    "# Define number of polynomial variables and runs for each path and input variable vector\n",
    "Var = 10\n",
    "Runs = 10000\n",
    "\n",
    "# Define path matrices and fill with zeros\n",
    "Path1 = np.zeros((Runs, Var))\n",
    "Path2 = np.zeros((Runs, Var))\n",
    "Path3 = np.zeros((Runs, Var))\n",
    "Path4 = np.zeros((Runs, Var))\n",
    "\n",
    "\n",
    "\n",
    "# Assign initial random input bounds for each variable\n",
    "x1_lwr = 1.0\n",
    "x1_upr = 5.0\n",
    "x2_lwr = 1.0\n",
    "x2_upr = 5.0\n",
    "x3_lwr = 0.0\n",
    "x3_upr = 8.5\n",
    "x4_lwr = 0.5\n",
    "x4_upr = 6.0\n",
    "x5_lwr = -2.0\n",
    "x5_upr = 9.0\n",
    "x6_lwr = 1.5\n",
    "x6_upr = 10.0\n",
    "x7_lwr = -3.5\n",
    "x7_upr = 4.0\n",
    "x8_lwr = -3.5\n",
    "x8_upr = 2.5\n",
    "x9_lwr = -4.0\n",
    "x9_upr = 3.0\n",
    "x10_lwr = 1.0\n",
    "x10_upr = 10.0\n",
    "\n",
    "# Populate each path array with the neccessary randomized input variables (1 indicates a variable needing an input for specific path)\n",
    "Path1 = random_inputs(Path1, Var, Runs, [1, 1, 0, 1, 0, 0, 1, 0, 1, 0], x1_lwr, x1_upr, x2_lwr, x2_upr, x3_lwr, x3_upr, x4_lwr, x4_upr,\\\n",
    "                     x5_lwr, x5_upr, x6_lwr, x6_upr, x7_lwr, x7_upr, x8_lwr, x8_upr, x9_lwr, x9_upr, x10_lwr, x10_upr)\n",
    "Path2 = random_inputs(Path2, Var, Runs, [0, 1, 1, 1, 0, 0, 1, 0, 1, 0], x1_lwr, x1_upr, x2_lwr, x2_upr, x3_lwr, x3_upr, x4_lwr, x4_upr,\\\n",
    "                     x5_lwr, x5_upr, x6_lwr, x6_upr, x7_lwr, x7_upr, x8_lwr, x8_upr, x9_lwr, x9_upr, x10_lwr, x10_upr)\n",
    "Path3 = random_inputs(Path3, Var, Runs, [1, 0, 0, 0, 1, 1, 1, 0, 1, 0], x1_lwr, x1_upr, x2_lwr, x2_upr, x3_lwr, x3_upr, x4_lwr, x4_upr,\\\n",
    "                     x5_lwr, x5_upr, x6_lwr, x6_upr, x7_lwr, x7_upr, x8_lwr, x8_upr, x9_lwr, x9_upr, x10_lwr, x10_upr) # Need either x1, x2, x3, or x4\n",
    "Path4 = random_inputs(Path4, Var, Runs, [1, 1, 0, 1, 0, 0, 0, 1, 1, 0], x1_lwr, x1_upr, x2_lwr, x2_upr, x3_lwr, x3_upr, x4_lwr, x4_upr,\\\n",
    "                     x5_lwr, x5_upr, x6_lwr, x6_upr, x7_lwr, x7_upr, x8_lwr, x8_upr, x9_lwr, x9_upr, x10_lwr, x10_upr) # Need either x4, x5, x6, or x7"
   ]
  },
  {
   "cell_type": "markdown",
   "id": "f8ea958e-ce0a-446d-b832-79280142971b",
   "metadata": {},
   "source": [
    "### Dependent Outputs\n",
    "\n",
    "*Calling the analysis functions to produce the variable outputs.*"
   ]
  },
  {
   "cell_type": "code",
   "execution_count": 7,
   "id": "ba1c0072-3853-49e7-8853-f0de229354ee",
   "metadata": {},
   "outputs": [
    {
     "name": "stderr",
     "output_type": "stream",
     "text": [
      "<ipython-input-3-bb944430dc8a>:13: RuntimeWarning: invalid value encountered in sqrt\n",
      "  number4 = ((-1/2) + ((1/2)**2 - 4*1*(number5 - number1 - number6/2))**(1/2)) / (2*1)\n"
     ]
    }
   ],
   "source": [
    "# Call analysis functions as necessary for first path\n",
    "Path1[:,2] = analysis1(Path1[:,0], Path1[:,1])\n",
    "Path1[:,4], Path1[:,5] = analysis2(Path1[:,1], Path1[:,2], Path1[:,3])\n",
    "Path1[:,7] = analysis3(Path1[:,4], Path1[:,5], Path1[:,6])\n",
    "Path1[:,9] = analysis4(Path1[:,7], Path1[:,8], Path1[:,0])\n",
    "\n",
    "# Call analysis functions as necessary for second path\n",
    "Path2[:,4], Path2[:,5] = analysis2(Path2[:,1], Path2[:,2], Path2[:,3])\n",
    "Path2[:,0] = analysis1_back(Path2[:,2], Path2[:,1])\n",
    "Path2[:,7] = analysis3(Path2[:,4], Path2[:,5], Path2[:,6])\n",
    "Path2[:,9] = analysis4(Path2[:,7], Path2[:,8], Path2[:,0])\n",
    "\n",
    "# Call analysis functions as necessary for third path\n",
    "Path3[:,7] = analysis3(Path3[:,4], Path3[:,5], Path3[:,6])\n",
    "Path3[:,9] = analysis4(Path3[:,7], Path3[:,8], Path3[:,0])\n",
    "Path3[:,3] = analysis12(Path3[:,0], Path3[:,4], Path3[:,5]) # Warning can pop up for a complex number\n",
    "Path3[:,1], Path3[:,2] = analysis2_back4(Path3[:,4], Path3[:,5], Path3[:,3])\n",
    "\n",
    "# Call analysis functions as necessary for fourth path\n",
    "Path4[:,9] = analysis4(Path4[:,7], Path4[:,8], Path4[:,0])\n",
    "Path4[:,2] = analysis1(Path4[:,0], Path4[:,1])\n",
    "Path4[:,4], Path4[:,5] = analysis2(Path4[:,1], Path4[:,2], Path4[:,3])\n",
    "Path4[:,6] = analysis3_back7(Path4[:,4], Path4[:,5], Path4[:,7])"
   ]
  },
  {
   "cell_type": "markdown",
   "id": "d2da47cb-e2c8-4196-9350-c39dd5caf4c5",
   "metadata": {},
   "source": [
    "### Path Dependency Statitistics\n",
    "\n",
    "*Calculating the percentage of variables that fall within their given bounds for each path.*"
   ]
  },
  {
   "cell_type": "code",
   "execution_count": 8,
   "id": "cb5ab7ac-6c68-444b-80df-08693783fb2d",
   "metadata": {},
   "outputs": [],
   "source": [
    "# Create vector that tracks successful bounds for each variable of each path\n",
    "Path1_success = np.zeros(len(Path1[0]))\n",
    "Path2_success = np.zeros(len(Path2[0]))\n",
    "Path3_success = np.zeros(len(Path3[0]))\n",
    "Path4_success = np.zeros(len(Path4[0]))\n",
    "\n",
    "# Create vector that tracks success of each run of each path (i.e. 10 successful variables, 9 successful variables, etc.)\n",
    "Run1_success = np.zeros(len(Path1[0]) + 1)\n",
    "Run2_success = np.zeros(len(Path2[0]) + 1)\n",
    "Run3_success = np.zeros(len(Path3[0]) + 1)\n",
    "Run4_success = np.zeros(len(Path4[0]) + 1)\n",
    "\n",
    "# Loop through all of the variables checking their bounds and the run success for each path\n",
    "Path1_success, Run1_success, Path1_success_10var, Path1_success_9var, Path1_success_8var = variable_checker(Path1, Path1_success, Run1_success, Var)\n",
    "Path2_success, Run2_success, Path2_success_10var, Path2_success_9var, Path2_success_8var = variable_checker(Path2, Path2_success, Run2_success, Var)\n",
    "Path3_success, Run3_success, Path3_success_10var, Path3_success_9var, Path3_success_8var = variable_checker(Path3, Path3_success, Run3_success, Var)\n",
    "Path4_success, Run4_success, Path4_success_10var, Path4_success_9var, Path4_success_8var = variable_checker(Path4, Path4_success, Run4_success, Var)\n",
    "    \n",
    "# Turn results into a percentage for each variable and for each run of each path\n",
    "Path1_success, Run1_success = success_percent(Path1, Path1_success, Run1_success)\n",
    "Path2_success, Run2_success = success_percent(Path2, Path2_success, Run2_success)\n",
    "Path3_success, Run3_success = success_percent(Path3, Path3_success, Run3_success)\n",
    "Path4_success, Run4_success = success_percent(Path4, Path4_success, Run4_success)"
   ]
  },
  {
   "cell_type": "markdown",
   "id": "40e7ce9a-cb26-41ed-ba04-e6c6da5b584c",
   "metadata": {},
   "source": [
    "### Results\n",
    "\n",
    "*Displaying the results for each path.*"
   ]
  },
  {
   "cell_type": "code",
   "execution_count": 9,
   "id": "9632a575-1855-497a-bc77-5d1497b9490c",
   "metadata": {},
   "outputs": [
    {
     "data": {
      "image/png": "[encoded data removed]",
      "text/plain": [
       "<Figure size 432x288 with 1 Axes>"
      ]
     },
     "metadata": {
      "needs_background": "light"
     },
     "output_type": "display_data"
    },
    {
     "data": {
      "image/png": "[encoded data removed]",
      "text/plain": [
       "<Figure size 432x288 with 1 Axes>"
      ]
     },
     "metadata": {
      "needs_background": "light"
     },
     "output_type": "display_data"
    }
   ],
   "source": [
    "# Create a bar plot for all of the variables of all of the paths (light scale and color scale options)\n",
    "x = np.arange(10)\n",
    "x_data = ['x1', 'x2', 'x3', 'x4', 'x5', 'x6', 'x7', 'x8', 'x9', 'x10']\n",
    "plt.title(\"Results for each Variable\")\n",
    "#plt.bar(x-0.3, Path1_success, color = 'red', width = 0.2)\n",
    "plt.bar(x-0.3, Path1_success, color = 'darkgray', width = 0.2)\n",
    "#plt.bar(x-0.1, Path2_success, color = 'green', width = 0.2)\n",
    "plt.bar(x-0.1, Path2_success, color = 'gray', width = 0.2)\n",
    "#plt.bar(x+0.1, Path3_success, color = 'blue', width = 0.2)\n",
    "plt.bar(x+0.1, Path3_success, color = 'dimgray', width = 0.2)\n",
    "#plt.bar(x+0.3, Path4_success, color = 'brown', width = 0.2)\n",
    "plt.bar(x+0.3, Path4_success, color = 'lightgray', width = 0.2)\n",
    "plt.xticks(x, x_data)\n",
    "plt.xlabel(\"Polynomial Model Variables\")\n",
    "plt.ylabel(\"Percent within Range\")\n",
    "plt.legend([\"Path1\", \"Path2\", \"Path3\", \"Path4\"], loc='upper right')\n",
    "plt.show()\n",
    "\n",
    "# Create a bar plot for all of the runs of all of the paths (light scale and color scale options)\n",
    "x = np.arange(6)\n",
    "x_data = ['5', '6', '7', '8', '9', '10']\n",
    "plt.title(\"Results for each Run\")\n",
    "#plt.bar(x-0.3, Run1_success[5:11], color = 'red', width = 0.2)\n",
    "plt.bar(x-0.3, Run1_success[5:11], color = 'darkgray', width = 0.2)\n",
    "#plt.bar(x-0.1, Run2_success[5:11], color = 'green', width = 0.2)\n",
    "plt.bar(x-0.1, Run2_success[5:11], color = 'gray', width = 0.2)\n",
    "#plt.bar(x+0.1, Run3_success[5:11], color = 'blue', width = 0.2)\n",
    "plt.bar(x+0.1, Run3_success[5:11], color = 'dimgray', width = 0.2)\n",
    "#plt.bar(x+0.3, Run4_success[5:11], color = 'brown', width = 0.2)\n",
    "plt.bar(x+0.3, Run4_success[5:11], color = 'lightgray', width = 0.2)\n",
    "plt.xticks(x, x_data)\n",
    "plt.xlabel(\"Number of Successful Variables in a Run\")\n",
    "plt.ylabel(\"Percent of Total Runs\")\n",
    "plt.legend([\"Path1\", \"Path2\", \"Path3\", \"Path4\"], loc='upper right')\n",
    "plt.show()"
   ]
  },
  {
   "cell_type": "markdown",
   "id": "2a46c10d-b13b-4541-be38-4fa6c15e7b57",
   "metadata": {},
   "source": [
    "***\n",
    "***\n",
    "***"
   ]
  },
  {
   "cell_type": "markdown",
   "id": "c30d4e90-8914-4fe8-a5ae-94060157717b",
   "metadata": {},
   "source": [
    "## Multi-Step Sequential Model\n",
    "\n",
    "*Knowledge generation - Rework - No modifiable path selection - No concurrent engineering - No set based approaches - No proactive path metrics*"
   ]
  },
  {
   "cell_type": "markdown",
   "id": "f58cdcdd-8d8c-4a6c-8e5b-b2e74d54e818",
   "metadata": {},
   "source": [
    "The goal of this variation of the model is to take information on the range of variable values resulting in successful runs, and then to shrink the random variable generators to those ranges.  This should be done in two different ways: (1) strictly variable success should be considered and not overall run success, and (2) overall run success should be the only consideration.  The reason why the first method may not be satisfactory alone is because certain successful variable values may cause other variable values to be unsuccessful.  The second method uses results from the 10 (and maybe 9) successful variable runs.  Later on, the knowledge generation methods can be made more considerate and intricate (i.e. maybe some sort of results histogram having a gauss or some other type of distribution away from the average successful variable value), but for now, this will provide important results without allowing a human factor to develop."
   ]
  },
  {
   "cell_type": "markdown",
   "id": "bfbf93fd-e9ed-42b3-b03c-c3037b184d30",
   "metadata": {},
   "source": [
    "### New Input Variable Range Assignment\n",
    "\n",
    "*Creating new sets of restrictive random variable ranges based on variable success and run success.*"
   ]
  },
  {
   "cell_type": "code",
   "execution_count": 13,
   "id": "8cea0b86-63f8-46b6-810a-650f0025109b",
   "metadata": {},
   "outputs": [],
   "source": [
    "# Define rework path matrix and fill with copy of loop 1 matrices\n",
    "Path1_re = np.copy(Path1)\n",
    "Path2_re = np.copy(Path2)\n",
    "Path3_re = np.copy(Path3)\n",
    "Path4_re = np.copy(Path4)\n",
    "\n",
    "# Eliminate initial zeros row of Path success matrices\n",
    "Path1_success_10var = np.delete(Path1_success_10var, 0, 0)\n",
    "Path1_success_9var = np.delete(Path1_success_9var, 0, 0)\n",
    "Path1_success_8var = np.delete(Path1_success_8var, 0, 0)\n",
    "Path2_success_10var = np.delete(Path2_success_10var, 0, 0)\n",
    "Path2_success_9var = np.delete(Path2_success_9var, 0, 0)\n",
    "Path2_success_8var = np.delete(Path2_success_8var, 0, 0)\n",
    "Path3_success_10var = np.delete(Path3_success_10var, 0, 0)\n",
    "Path3_success_9var = np.delete(Path3_success_9var, 0, 0)\n",
    "Path3_success_8var = np.delete(Path3_success_8var, 0, 0)\n",
    "Path4_success_10var = np.delete(Path4_success_10var, 0, 0)\n",
    "Path4_success_9var = np.delete(Path4_success_9var, 0, 0)\n",
    "Path4_success_8var = np.delete(Path4_success_8var, 0, 0)\n",
    "\n",
    "# Return vector of maximum values for each variable\n",
    "Path1_10var_max = np.amax(Path1_success_10var, axis=0)\n",
    "Path2_10var_max = np.amax(Path2_success_10var, axis=0)\n",
    "Path3_10var_max = np.amax(Path3_success_10var, axis=0)\n",
    "Path4_10var_max = np.amax(Path4_success_10var, axis=0)\n",
    "\n",
    "# Return vector of minimum values for each variable\n",
    "Path1_10var_min = np.amin(Path1_success_10var, axis=0)\n",
    "Path2_10var_min = np.amin(Path2_success_10var, axis=0)\n",
    "Path3_10var_min = np.amin(Path3_success_10var, axis=0)\n",
    "Path4_10var_min = np.amin(Path4_success_10var, axis=0)\n",
    "\n",
    "# Use the max and min values as new bounds for newly generated normally-distributed random inputs\n",
    "Path1_re = random_inputs(Path1_re, Var, Runs, [1, 1, 0, 1, 0, 0, 1, 0, 1, 0], Path1_10var_min[0], Path1_10var_max[0],\\\n",
    "                         Path1_10var_min[1], Path1_10var_max[1], Path1_10var_min[2], Path1_10var_max[2], Path1_10var_min[3], Path1_10var_max[3],\\\n",
    "                         Path1_10var_min[4], Path1_10var_max[4], Path1_10var_min[5], Path1_10var_max[5], Path1_10var_min[6], Path1_10var_max[6],\\\n",
    "                         Path1_10var_min[7], Path1_10var_max[7], Path1_10var_min[8], Path1_10var_max[8], Path1_10var_min[9], Path1_10var_max[9])\n",
    "Path2_re = random_inputs(Path2_re, Var, Runs, [0, 1, 1, 1, 0, 0, 1, 0, 1, 0], Path2_10var_min[0], Path2_10var_max[0],\\\n",
    "                         Path2_10var_min[1], Path2_10var_max[1], Path2_10var_min[2], Path2_10var_max[2], Path2_10var_min[3], Path2_10var_max[3],\\\n",
    "                         Path2_10var_min[4], Path2_10var_max[4], Path2_10var_min[5], Path2_10var_max[5], Path2_10var_min[6], Path2_10var_max[6],\\\n",
    "                         Path2_10var_min[7], Path2_10var_max[7], Path2_10var_min[8], Path2_10var_max[8], Path2_10var_min[9], Path2_10var_max[9])\n",
    "Path3_re = random_inputs(Path3_re, Var, Runs, [1, 0, 0, 0, 1, 1, 1, 0, 1, 0], Path3_10var_min[0], Path3_10var_max[0],\\\n",
    "                         Path3_10var_min[1], Path3_10var_max[1], Path3_10var_min[2], Path3_10var_max[2], Path3_10var_min[3], Path3_10var_max[3],\\\n",
    "                         Path3_10var_min[4], Path3_10var_max[4], Path3_10var_min[5], Path3_10var_max[5], Path3_10var_min[6], Path3_10var_max[6],\\\n",
    "                         Path3_10var_min[7], Path3_10var_max[7], Path3_10var_min[8], Path3_10var_max[8], Path3_10var_min[9], Path3_10var_max[9])\n",
    "Path4_re = random_inputs(Path4_re, Var, Runs, [1, 1, 0, 1, 0, 0, 0, 1, 1, 0], Path4_10var_min[0], Path4_10var_max[0],\\\n",
    "                         Path4_10var_min[1], Path4_10var_max[1], Path4_10var_min[2], Path4_10var_max[2], Path4_10var_min[3], Path4_10var_max[3],\\\n",
    "                         Path4_10var_min[4], Path4_10var_max[4], Path4_10var_min[5], Path4_10var_max[5], Path4_10var_min[6], Path4_10var_max[6],\\\n",
    "                         Path4_10var_min[7], Path4_10var_max[7], Path4_10var_min[8], Path4_10var_max[8], Path4_10var_min[9], Path4_10var_max[9])"
   ]
  },
  {
   "cell_type": "code",
   "execution_count": null,
   "id": "3fd2390d-d4df-4d0d-b211-dc46c8f5231a",
   "metadata": {},
   "outputs": [],
   "source": [
    "# Add a maximum number of rework loops!"
   ]
  },
  {
   "cell_type": "code",
   "execution_count": null,
   "id": "aec79f92-0cb6-4fa8-b61c-1ae708e2516d",
   "metadata": {},
   "outputs": [],
   "source": []
  },
  {
   "cell_type": "code",
   "execution_count": null,
   "id": "d002e98a-5a13-45a4-b304-315bd44c6e77",
   "metadata": {},
   "outputs": [],
   "source": []
  },
  {
   "cell_type": "markdown",
   "id": "44bb4b5c-67d9-49f7-b3c7-4c4eb29a7d35",
   "metadata": {},
   "source": [
    "***\n",
    "***\n",
    "***"
   ]
  },
  {
   "cell_type": "markdown",
   "id": "28950288-5037-4d7c-ae04-1bdab7fc9aa7",
   "metadata": {},
   "source": [
    "## Multi-Step Modifiable Sequential Model\n",
    "\n",
    "*Knowledge generation - Rework - Modifiable path selection - No concurrent engineering - No set based approaches - No proactive path metrics*"
   ]
  },
  {
   "cell_type": "code",
   "execution_count": null,
   "id": "65cc704c-0570-48c7-8d27-c4e33ce383c2",
   "metadata": {},
   "outputs": [],
   "source": []
  },
  {
   "cell_type": "code",
   "execution_count": null,
   "id": "0ae19a7b-163e-4684-9dab-21d359b718e3",
   "metadata": {},
   "outputs": [],
   "source": []
  },
  {
   "cell_type": "code",
   "execution_count": null,
   "id": "ef391e02-74b6-4fd1-9ccd-f09ad8d6ee3b",
   "metadata": {},
   "outputs": [],
   "source": []
  },
  {
   "cell_type": "code",
   "execution_count": null,
   "id": "0313e489-9a8f-408d-8142-6d99fc1767b4",
   "metadata": {},
   "outputs": [],
   "source": []
  },
  {
   "cell_type": "markdown",
   "id": "03e153c2-ffff-440a-8fa6-11c9507cc46f",
   "metadata": {},
   "source": []
  }
 ],
 "metadata": {
  "kernelspec": {
   "display_name": "Python 3",
   "language": "python",
   "name": "python3"
  },
  "language_info": {
   "codemirror_mode": {
    "name": "ipython",
    "version": 3
   },
   "file_extension": ".py",
   "mimetype": "text/x-python",
   "name": "python",
   "nbconvert_exporter": "python",
   "pygments_lexer": "ipython3",
   "version": "3.8.8"
  }
 },
 "nbformat": 4,
 "nbformat_minor": 5
}
