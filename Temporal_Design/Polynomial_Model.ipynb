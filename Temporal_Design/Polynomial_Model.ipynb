{
 "cells": [
  {
   "cell_type": "markdown",
   "id": "d463e297-5f8a-464b-8398-8d3fa00d71cd",
   "metadata": {
    "tags": []
   },
   "source": [
    "# **Polynomial Model**\n",
    "\n",
    "![Alternative Text](Temporal_Decisions.png)\n",
    "$$x_1+x_2=x_3$$\n",
    "$$x_3-x_4^2=x_5$$\n",
    "$$2x_2+x_4=x_6$$\n",
    "$$x_5+\\sqrt{x_6}-x_7=x_8$$\n",
    "$$x_8-2(x_9+x_1^3)=x_{10}$$\n",
    "\n",
    "*The ultimate goal is to determine the percentage of variables that converge into their acceptable ranges based on the order in which the analyses are performed.  The ranges for the alotted variables are given below.  These ranges would act in a similar manner as rules and/or requirements in a vessel design.*\n",
    "\n",
    "$$1 \\leq x_1 < 5$$\n",
    "$$1 \\leq x_2 < 5$$\n",
    "$$0 \\leq x_3 < 8.5$$\n",
    "$$0.5 \\leq x_4 < 6$$\n",
    "$$-2 \\leq x_5 < 9$$\n",
    "$$1.5 \\leq x_6 < 10$$\n",
    "$$-3.5 \\leq x_7 < 4$$\n",
    "$$-3.5 \\leq x_8 < 2.5$$\n",
    "$$-4 \\leq x_9 < 3$$\n",
    "$$1 \\leq x_{10} < 10$$\n",
    "\n",
    "*The polynomial model runs its analyses in [number] different orders: (1) 1,2,3,4; (2) 2,1,3,4; (3) 3,4,1-2, (4) 4,1,2-3.  Each of the runs will start by creating 10,000 different sets of input variables within the ranges shown above, and the other values will be backed out based on the provided equations.  At the end of each of the four runs, all ten variables will be evaluated to see what percentage of the 10 variables fall within their alotted range.  The inputs will always fall within the given range as they are given values randomly within their known bounds.  The outputs will fall within or out of range based on the combination of inputs chosen.  Later on, the code can involve some sort of rework in an attempt to get all of the outputs to stay within their bounds, but for the time being, the code is only meant to show the success rate in convergence for different solution paths.*"
   ]
  },
  {
   "cell_type": "markdown",
   "id": "b35a9942-1811-4fc4-b0a8-2b731cd0a4e0",
   "metadata": {
    "tags": []
   },
   "source": [
    "## Libraries"
   ]
  },
  {
   "cell_type": "code",
   "execution_count": 1,
   "id": "65ad9faf-4ba2-4228-b582-d3aa7925cf1d",
   "metadata": {},
   "outputs": [],
   "source": [
    "import numpy as np\n",
    "import matplotlib.pyplot as plt"
   ]
  },
  {
   "cell_type": "markdown",
   "id": "d8e3ce8a-32b6-47e5-93cd-c9b2ebf9f819",
   "metadata": {
    "tags": []
   },
   "source": [
    "### Analysis Functions\n",
    "\n",
    "*Defining the analysis functions that will be called on later.*"
   ]
  },
  {
   "cell_type": "code",
   "execution_count": 2,
   "id": "52a3d4db-9466-4945-a71a-e1e0891e28bf",
   "metadata": {},
   "outputs": [],
   "source": [
    "# Analysis 1 - forward and backward\n",
    "def analysis1(number1, number2):\n",
    "    number3 = number1 + number2\n",
    "    return number3\n",
    "\n",
    "def analysis1_back(number3, number1or2):\n",
    "    number2or1 = number3 - number1or2\n",
    "    return number2or1\n",
    "\n",
    "\n",
    "# Analysis 1 & 2 Combined\n",
    "def analysis12(number1, number5, number6):\n",
    "    number4 = ((-1/2) + ((1/2)**2 - 4*1*(number5 - number1 - number6/2))**(1/2)) / (2*1)\n",
    "    return number4\n",
    "\n",
    "\n",
    "# Analysis 2\n",
    "def analysis2(number2, number3, number4):\n",
    "    number5 = number3 - number4**2\n",
    "    number6 = 2*number2 + number4\n",
    "    return number5, number6\n",
    "\n",
    "def analysis2_back4(number5, number6, number4):\n",
    "    number2 = (number6 - number4) / 2\n",
    "    number3 = number5 + number4**2\n",
    "    return number2, number3\n",
    "    \n",
    "\n",
    "# Analysis 3\n",
    "def analysis3(number5, number6, number7):\n",
    "    number8 = number5 + number6**(1/2) - number7\n",
    "    return number8\n",
    "\n",
    "def analysis3_back7(number5, number6, number8):\n",
    "    number7 = number5 + number6**(1/2) - number8\n",
    "    return number7\n",
    "\n",
    "\n",
    "# Analysis 4\n",
    "def analysis4(number8, number9, number1):\n",
    "    number10 = number8 - 2*(number9 + number1**3)\n",
    "    return number10"
   ]
  },
  {
   "cell_type": "markdown",
   "id": "016c324c-1803-40b7-bc19-51c53e50770b",
   "metadata": {},
   "source": [
    "## Variable Checking Function\n",
    "\n",
    "*Checking that the variables fall within their bounds regardless of the Run and variations.*"
   ]
  },
  {
   "cell_type": "code",
   "execution_count": 3,
   "id": "df99734a-3397-43a4-b44d-04f904116319",
   "metadata": {},
   "outputs": [],
   "source": [
    "# for loop and if statements checking variable ranges\n",
    "def variable_checker(Run, Run_success):\n",
    "    for i in range(0,len(Run)):\n",
    "        if Run[i,0] >= 1 and Run[i,0] < 5:\n",
    "            Run_success[0] += 1\n",
    "        if Run[i,1] >=1 and Run[i,1] < 5:\n",
    "            Run_success[1] += 1\n",
    "        if Run[i,2] >= 0 and Run[i,2] < 8.5:\n",
    "            Run_success[2] += 1\n",
    "        if Run[i,3] >= 0.5 and Run[i,3] < 6:\n",
    "            Run_success[3] += 1\n",
    "        if Run[i,4] >= -2 and Run[i,4] < 9:\n",
    "            Run_success[4] += 1\n",
    "        if Run[i,5] >= 1.5 and Run[i,5] < 10:\n",
    "            Run_success[5] += 1\n",
    "        if Run[i,6] >= -3.5 and Run[i,6] < 4:\n",
    "            Run_success[6] += 1\n",
    "        if Run[i,7] >= -3.5 and Run[i,7] < 2.5:\n",
    "            Run_success[7] += 1\n",
    "        if Run[i,8] >= -4 and Run[i,8] < 3:\n",
    "            Run_success[8] += 1\n",
    "        if Run[i,9] >= 1 and Run[i,9] < 10:\n",
    "            Run_success[9] += 1\n",
    "    return Run_success"
   ]
  },
  {
   "cell_type": "markdown",
   "id": "f2a553b2-52b4-4cdf-ba6f-4b3eab36e449",
   "metadata": {},
   "source": [
    "## Random Inputs\n",
    "\n",
    "*Assigning random float values to the necessary inputs of each run within the respective variable bounds.*"
   ]
  },
  {
   "cell_type": "code",
   "execution_count": 4,
   "id": "e12582da-59df-4a34-81c6-c187b0a48a19",
   "metadata": {},
   "outputs": [],
   "source": [
    "# Create a 10,000 x 10 array of zeros for each run\n",
    "Run1 = np.zeros((10000, 10))\n",
    "Run2 = np.zeros((10000, 10))\n",
    "Run3 = np.zeros((10000, 10))\n",
    "Run4 = np.zeros((10000, 10))\n",
    "\n",
    "# Change input bounds for first run (i.e. x1, x2, x4, x7, x9)\n",
    "for i in range(0,len(Run1)):\n",
    "    Run1[i,0] = np.random.uniform(1,5)\n",
    "    Run1[i,1] = np.random.uniform(1,5)\n",
    "    Run1[i,3] = np.random.uniform(0.5,6)\n",
    "    Run1[i,6] = np.random.uniform(-3,4)\n",
    "    Run1[i,8] = np.random.uniform(-4,3)\n",
    "    \n",
    "# Change input bounds for second run (i.e. x2, x3, x4, x7, x9)\n",
    "for i in range(0,len(Run2)):\n",
    "    Run2[i,1] = np.random.uniform(1,5)\n",
    "    Run2[i,2] = np.random.uniform(0,8.5)\n",
    "    Run2[i,3] = np.random.uniform(0.5,6)\n",
    "    Run2[i,6] = np.random.uniform(-3,4)\n",
    "    Run2[i,8] = np.random.uniform(-4,3)\n",
    "    \n",
    "# Change input bounds for third run (i.e. x1, x5, x6, x7, x9) - I need either x1, x2, x3, or x4...Don't think this matters as much though\n",
    "for i in range(0,len(Run3)):\n",
    "    Run3[i,0] = np.random.uniform(1,5)\n",
    "    Run3[i,4] = np.random.uniform(-2,9)\n",
    "    Run3[i,5] = np.random.uniform(1.5,10)\n",
    "    Run3[i,6] = np.random.uniform(-3,4)\n",
    "    Run3[i,8] = np.random.uniform(-4,3)\n",
    "    \n",
    "# Change input bounds for fourth run (i.e. x1, x2, x4, x8, x9) - I need either x4, x5, x6, or x7\n",
    "for i in range(0,len(Run4)):\n",
    "    Run4[i,0] = np.random.uniform(1,5)\n",
    "    Run4[i,1] = np.random.uniform(1,5)\n",
    "    Run4[i,3] = np.random.uniform(0.5,6)\n",
    "    Run4[i,7] = np.random.uniform(-3.5,2.5)\n",
    "    Run4[i,8] = np.random.uniform(-4,3)"
   ]
  },
  {
   "cell_type": "markdown",
   "id": "f8ea958e-ce0a-446d-b832-79280142971b",
   "metadata": {},
   "source": [
    "## Dependent Outputs\n",
    "\n",
    "*Calling the analysis functions to produce the variable outputs.*"
   ]
  },
  {
   "cell_type": "code",
   "execution_count": 5,
   "id": "ba1c0072-3853-49e7-8853-f0de229354ee",
   "metadata": {},
   "outputs": [
    {
     "name": "stderr",
     "output_type": "stream",
     "text": [
      "C:\\Users\\joeyv\\AppData\\Local\\Temp/ipykernel_19324/1807672822.py:13: RuntimeWarning: invalid value encountered in sqrt\n",
      "  number4 = ((-1/2) + ((1/2)**2 - 4*1*(number5 - number1 - number6/2))**(1/2)) / (2*1)\n"
     ]
    }
   ],
   "source": [
    "# Call analysis functions as necessary for first run\n",
    "Run1[:,2] = analysis1(Run1[:,0], Run1[:,1])\n",
    "Run1[:,4], Run1[:,5] = analysis2(Run1[:,1], Run1[:,2], Run1[:,3])\n",
    "Run1[:,7] = analysis3(Run1[:,4], Run1[:,5], Run1[:,6])\n",
    "Run1[:,9] = analysis4(Run1[:,7], Run1[:,8], Run1[:,0])\n",
    "\n",
    "# Call analysis functions as necessary for second run\n",
    "Run2[:,4], Run2[:,5] = analysis2(Run2[:,1], Run2[:,2], Run2[:,3])\n",
    "Run2[:,0] = analysis1_back(Run2[:,2], Run2[:,1])\n",
    "Run2[:,7] = analysis3(Run2[:,4], Run2[:,5], Run2[:,6])\n",
    "Run2[:,9] = analysis4(Run2[:,7], Run2[:,8], Run2[:,0])\n",
    "\n",
    "# Call analysis functions as necessary for third run\n",
    "Run3[:,7] = analysis3(Run3[:,4], Run3[:,5], Run3[:,6])\n",
    "Run3[:,9] = analysis4(Run3[:,7], Run3[:,8], Run3[:,0])\n",
    "Run3[:,3] = analysis12(Run3[:,0], Run3[:,4], Run3[:,5]) # Warning can pop up for a complex number\n",
    "Run3[:,1], Run3[:,2] = analysis2_back4(Run3[:,4], Run3[:,5], Run3[:,3])\n",
    "\n",
    "# Call analysis functions as necessary for fourth run\n",
    "Run4[:,9] = analysis4(Run4[:,7], Run4[:,8], Run4[:,0])\n",
    "Run4[:,2] = analysis1(Run4[:,0], Run4[:,1])\n",
    "Run4[:,4], Run4[:,5] = analysis2(Run4[:,1], Run4[:,2], Run4[:,3])\n",
    "Run4[:,6] = analysis3_back7(Run4[:,4], Run4[:,5], Run4[:,7])"
   ]
  },
  {
   "cell_type": "markdown",
   "id": "d2da47cb-e2c8-4196-9350-c39dd5caf4c5",
   "metadata": {},
   "source": [
    "## Path Dependency Statitistics\n",
    "\n",
    "*Calculating the percentage of variables that fall within their given bounds for each set of four runs.*"
   ]
  },
  {
   "cell_type": "code",
   "execution_count": 6,
   "id": "cb5ab7ac-6c68-444b-80df-08693783fb2d",
   "metadata": {},
   "outputs": [],
   "source": [
    "# Create array that tracks successful bounds for each variable of each run\n",
    "Run1_success = np.zeros(len(Run1[0]))\n",
    "Run2_success = np.zeros(len(Run2[0]))\n",
    "Run3_success = np.zeros(len(Run3[0]))\n",
    "Run4_success = np.zeros(len(Run4[0]))\n",
    "\n",
    "# Loop through all of the variables checking their bounds for each run\n",
    "Run1_success = variable_checker(Run1, Run1_success)\n",
    "Run2_success = variable_checker(Run2, Run2_success)\n",
    "Run3_success = variable_checker(Run3, Run3_success)\n",
    "Run4_success = variable_checker(Run4, Run4_success)\n",
    "    \n",
    "# Turn successful runs into a percentage for each variable of each run\n",
    "Run1_success = np.around(Run1_success / len(Run1) * 100, 2)\n",
    "Run2_success = np.around(Run2_success / len(Run2) * 100, 2)\n",
    "Run3_success = np.around(Run3_success / len(Run3) * 100, 2)\n",
    "Run4_success = np.around(Run4_success / len(Run4) * 100, 2)"
   ]
  },
  {
   "cell_type": "markdown",
   "id": "40e7ce9a-cb26-41ed-ba04-e6c6da5b584c",
   "metadata": {},
   "source": [
    "## Results\n",
    "\n",
    "*Displaying the results for the four runs.*"
   ]
  },
  {
   "cell_type": "code",
   "execution_count": 7,
   "id": "9632a575-1855-497a-bc77-5d1497b9490c",
   "metadata": {},
   "outputs": [
    {
     "data": {
      "image/png": "[encoded data removed]",
      "text/plain": [
       "<Figure size 432x288 with 1 Axes>"
      ]
     },
     "metadata": {
      "needs_background": "light"
     },
     "output_type": "display_data"
    }
   ],
   "source": [
    "# Create a bar plot for all of the variables of all of the runs\n",
    "x = np.arange(10)\n",
    "x_data = ['x1', 'x2', 'x3', 'x4', 'x5', 'x6', 'x7', 'x8', 'x9', 'x10']\n",
    "plt.title(\"Polynomial Model - 4 Runs\")\n",
    "plt.bar(x-0.3, Run1_success, color = 'red', width = 0.2)\n",
    "plt.bar(x-0.1, Run2_success, color = 'green', width = 0.2)\n",
    "plt.bar(x+0.1, Run3_success, color = 'blue', width = 0.2)\n",
    "plt.bar(x+0.3, Run4_success, color = 'brown', width = 0.2)\n",
    "plt.xticks(x, x_data)\n",
    "plt.xlabel(\"Polynomial Model Variables\")\n",
    "plt.ylabel(\"Percent within Range\")\n",
    "plt.legend([\"Run1\", \"Run2\", \"Run3\", \"Run4\"], loc='upper right')\n",
    "plt.show()"
   ]
  },
  {
   "cell_type": "code",
   "execution_count": null,
   "id": "c4e2ce6f-e2eb-4633-a74f-a67e915ce241",
   "metadata": {},
   "outputs": [],
   "source": []
  },
  {
   "cell_type": "code",
   "execution_count": null,
   "id": "c2963f57-338c-4f20-a821-999eaf464038",
   "metadata": {},
   "outputs": [],
   "source": []
  },
  {
   "cell_type": "code",
   "execution_count": null,
   "id": "557bce65-dc45-48af-abeb-7d0bbcf48045",
   "metadata": {},
   "outputs": [],
   "source": []
  }
 ],
 "metadata": {
  "kernelspec": {
   "display_name": "Python 3 (ipykernel)",
   "language": "python",
   "name": "python3"
  },
  "language_info": {
   "codemirror_mode": {
    "name": "ipython",
    "version": 3
   },
   "file_extension": ".py",
   "mimetype": "text/x-python",
   "name": "python",
   "nbconvert_exporter": "python",
   "pygments_lexer": "ipython3",
   "version": "3.9.4"
  }
 },
 "nbformat": 4,
 "nbformat_minor": 5
}
