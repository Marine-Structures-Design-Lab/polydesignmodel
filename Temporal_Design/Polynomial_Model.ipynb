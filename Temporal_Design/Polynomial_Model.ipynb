{
 "cells": [
  {
   "cell_type": "markdown",
   "id": "d463e297-5f8a-464b-8398-8d3fa00d71cd",
   "metadata": {
    "tags": []
   },
   "source": [
    "# **Polynomial Model**\n",
    "\n",
    "![Alternative Text](Temporal_Decisions.png)\n",
    "$$x_1+x_2=x_3$$\n",
    "$$x_3-x_4^2=x_5$$\n",
    "$$2x_2+x_4=x_6$$\n",
    "$$x_5+\\sqrt{x_6}-x_7=x_8$$\n",
    "$$x_8-2(x_9+x_1^3)=x_{10}$$\n",
    "\n",
    "*The ultimate goal is to determine the percentage of variables that converge into their acceptable ranges based on the order in which the analyses are performed.  The ranges for the alotted variables are given below.  These ranges would act in a similar manner as rules and/or requirements in a vessel design.*\n",
    "\n",
    "$$1 \\leq x_1 < 5$$\n",
    "$$1 \\leq x_2 < 5$$\n",
    "$$0 \\leq x_3 < 8.5$$\n",
    "$$0.5 \\leq x_4 < 6$$\n",
    "$$-2 \\leq x_5 < 9$$\n",
    "$$1.5 \\leq x_6 < 10$$\n",
    "$$-3.5 \\leq x_7 < 4$$\n",
    "$$-3.5 \\leq x_8 < 2.5$$\n",
    "$$-4 \\leq x_9 < 3$$\n",
    "$$1 \\leq x_{10} < 10$$\n",
    "\n",
    "*The polynomial model runs its analyses in four different orders: (1) 1,2,3,4; (2) 2,3,4,1; (3) 3,4,1,2; and (4) 4,1,2,3.  Each of the runs will start by creating 10,000 different sets of input variables within the ranges shown above, and the other values will be backed out based on the provided equations.  At the end of each of the four runs, all ten variables will be evaluated to see what percentage of the 10 variables fall within their alotted range.  The inputs will always fall within the given range as they are given values randomly within their known bounds.  The outputs will fall within or out of range based on the combination of inputs chosen.  Later on, the code can involve some sort of rework in an attempt to get all of the outputs to stay within their bounds, but for the time being, the code is only meant to show the success rate in convergence for different solution paths.*"
   ]
  },
  {
   "cell_type": "markdown",
   "id": "b35a9942-1811-4fc4-b0a8-2b731cd0a4e0",
   "metadata": {
    "tags": []
   },
   "source": [
    "## Libraries"
   ]
  },
  {
   "cell_type": "code",
   "execution_count": 1,
   "id": "65ad9faf-4ba2-4228-b582-d3aa7925cf1d",
   "metadata": {},
   "outputs": [],
   "source": [
    "import numpy as np"
   ]
  },
  {
   "cell_type": "markdown",
   "id": "d8e3ce8a-32b6-47e5-93cd-c9b2ebf9f819",
   "metadata": {
    "tags": []
   },
   "source": [
    "### Analysis Functions\n",
    "\n",
    "*Defining the analysis functions that will be called on later.*"
   ]
  },
  {
   "cell_type": "code",
   "execution_count": 2,
   "id": "52a3d4db-9466-4945-a71a-e1e0891e28bf",
   "metadata": {},
   "outputs": [],
   "source": [
    "# Analysis 1\n",
    "def analysis_1(number1, number2):\n",
    "    number3 = number1 + number2\n",
    "    return number3\n",
    "\n",
    "# Analysis 2\n",
    "def analysis_2(number2, number3, number4):\n",
    "    number5 = number3 - number4**2\n",
    "    number6 = 2*number2 + number4\n",
    "    return number5, number6\n",
    "\n",
    "# Analysis 3\n",
    "def analysis_3(number5, number6, number7):\n",
    "    number8 = number5 + number6**(1/2) - number7\n",
    "    return number8\n",
    "\n",
    "# Analysis 4\n",
    "def analysis_4(number8, number9, number1):\n",
    "    number10 = number8 - 2*(number9 + number1**3)\n",
    "    return number10"
   ]
  },
  {
   "cell_type": "markdown",
   "id": "f2a553b2-52b4-4cdf-ba6f-4b3eab36e449",
   "metadata": {},
   "source": [
    "## Random Inputs\n",
    "\n",
    "*Assigning random float values to the necessary inputs of each run within the respective variable bounds*"
   ]
  },
  {
   "cell_type": "code",
   "execution_count": 3,
   "id": "e12582da-59df-4a34-81c6-c187b0a48a19",
   "metadata": {},
   "outputs": [],
   "source": [
    "# Create a 10 x 10,000 array of zeros\n",
    "Run1 = np.zeros((15, 10))\n",
    "\n",
    "# Change input bounds for first run (i.e. x1, x2, x4, x7, x9)\n",
    "for i in range(0,len(Run1)):\n",
    "    Run1[i,0] = np.random.uniform(1,5)\n",
    "    Run1[i,1] = np.random.uniform(1,5)\n",
    "    Run1[i,3] = np.random.uniform(0.5,6)\n",
    "    Run1[i,6] = np.random.uniform(-3,4)\n",
    "    Run1[i,8] = np.random.uniform(-4,3)"
   ]
  },
  {
   "cell_type": "markdown",
   "id": "f8ea958e-ce0a-446d-b832-79280142971b",
   "metadata": {},
   "source": [
    "## Dependent Outputs\n",
    "\n",
    "*Calling the analysis functions to produce the variable outputs*"
   ]
  },
  {
   "cell_type": "code",
   "execution_count": 4,
   "id": "ba1c0072-3853-49e7-8853-f0de229354ee",
   "metadata": {},
   "outputs": [],
   "source": [
    "# Call each of the analysis functions and update the multi-dimensional arrays with outputs for each run\n",
    "Run1[:,2] = analysis_1(Run1[:,0], Run1[:,1])\n",
    "Run1[:,4], Run1[:,5] = analysis_2(Run1[:,1], Run1[:,2], Run1[:,3])\n",
    "Run1[:,7] = analysis_3(Run1[:,4], Run1[:,5], Run1[:,6])\n",
    "Run1[:,9] = analysis_4(Run1[:,7], Run1[:,8], Run1[:,0])"
   ]
  },
  {
   "cell_type": "markdown",
   "id": "d2da47cb-e2c8-4196-9350-c39dd5caf4c5",
   "metadata": {},
   "source": [
    "## Path Dependency Statitistics\n",
    "\n",
    "*Calculating the percentage of variables that fall within their given bounds for each set of four runs*"
   ]
  },
  {
   "cell_type": "code",
   "execution_count": null,
   "id": "cb5ab7ac-6c68-444b-80df-08693783fb2d",
   "metadata": {},
   "outputs": [],
   "source": []
  },
  {
   "cell_type": "markdown",
   "id": "40e7ce9a-cb26-41ed-ba04-e6c6da5b584c",
   "metadata": {},
   "source": [
    "## Results\n",
    "\n",
    "*Displaying the results for the four runs*"
   ]
  },
  {
   "cell_type": "code",
   "execution_count": null,
   "id": "9632a575-1855-497a-bc77-5d1497b9490c",
   "metadata": {},
   "outputs": [],
   "source": []
  },
  {
   "cell_type": "code",
   "execution_count": null,
   "id": "c4e2ce6f-e2eb-4633-a74f-a67e915ce241",
   "metadata": {},
   "outputs": [],
   "source": []
  },
  {
   "cell_type": "code",
   "execution_count": null,
   "id": "c2963f57-338c-4f20-a821-999eaf464038",
   "metadata": {},
   "outputs": [],
   "source": []
  },
  {
   "cell_type": "code",
   "execution_count": null,
   "id": "557bce65-dc45-48af-abeb-7d0bbcf48045",
   "metadata": {},
   "outputs": [],
   "source": []
  }
 ],
 "metadata": {
  "kernelspec": {
   "display_name": "Python 3 (ipykernel)",
   "language": "python",
   "name": "python3"
  },
  "language_info": {
   "codemirror_mode": {
    "name": "ipython",
    "version": 3
   },
   "file_extension": ".py",
   "mimetype": "text/x-python",
   "name": "python",
   "nbconvert_exporter": "python",
   "pygments_lexer": "ipython3",
   "version": "3.9.4"
  }
 },
 "nbformat": 4,
 "nbformat_minor": 5
}
