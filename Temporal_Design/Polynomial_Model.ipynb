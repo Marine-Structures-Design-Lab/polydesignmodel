{
 "cells": [
  {
   "cell_type": "markdown",
   "id": "d463e297-5f8a-464b-8398-8d3fa00d71cd",
   "metadata": {
    "tags": []
   },
   "source": [
    "# **Polynomial Model**\n",
    "\n",
    "![Alternative Text](Temporal_Decisions.png)\n",
    "$$x_1+x_2=x_3$$\n",
    "$$x_3-x_4^2=x_5$$\n",
    "$$2x_2+x_4=x_6$$\n",
    "$$x_5+\\sqrt{x_6}-x_7=x_8$$\n",
    "$$x_8-2(x_9+x_1^3)=x_{10}$$\n",
    "\n",
    "*The ultimate goal is to determine the percentage of variables that converge into their acceptable ranges based on the order in which the analyses are performed.  The ranges for the alotted variables are given below.  These ranges would act in a similar manner as rules and/or requirements in a vessel design.*\n",
    "\n",
    "$$1 \\leq x_1 < 5$$\n",
    "$$1 \\leq x_2 < 5$$\n",
    "$$0 \\leq x_3 < 8.5$$\n",
    "$$0.5 \\leq x_4 < 6$$\n",
    "$$-2 \\leq x_5 < 9$$\n",
    "$$1.5 \\leq x_6 < 10$$\n",
    "$$-3.5 \\leq x_7 < 4$$\n",
    "$$-3.5 \\leq x_8 < 2.5$$\n",
    "$$-4 \\leq x_9 < 3$$\n",
    "$$1 \\leq x_{10} < 10$$\n",
    "\n",
    "*The polynomial model runs its analyses in [number] different orders: (1) 1,2,3,4; (2) 2,1,3,4; (3) 3,4,1-2, (4) 4,1,2-3.  Each of the paths will start by creating 10,000 different sets of input variables within the ranges shown above, and the other values will be backed out based on the provided equations.  At the end of each of path assessment, all ten variables will be evaluated to see what percentage of the 10 variables fall within their alotted range.  The inputs will always fall within the range as they are given values randomly within their known bounds.  The outputs will fall within or out of range based on the combination of inputs chosen.  Later on, the code can involve some sort of rework in an attempt to get all of the outputs to stay within their bounds, but for the time being, the code is only meant to show the success rate in convergence for different solution paths.*"
   ]
  },
  {
   "cell_type": "markdown",
   "id": "b35a9942-1811-4fc4-b0a8-2b731cd0a4e0",
   "metadata": {
    "tags": []
   },
   "source": [
    "## Libraries"
   ]
  },
  {
   "cell_type": "code",
   "execution_count": 1,
   "id": "65ad9faf-4ba2-4228-b582-d3aa7925cf1d",
   "metadata": {},
   "outputs": [],
   "source": [
    "import numpy as np\n",
    "import matplotlib.pyplot as plt"
   ]
  },
  {
   "cell_type": "markdown",
   "id": "39600eed-32d5-44be-b705-58a793df96ac",
   "metadata": {},
   "source": [
    "## Input Variable Subroutine\n",
    "\n",
    "*Creating the random values for the necessary inputs based on the chosen path and known variable bounds.*"
   ]
  },
  {
   "cell_type": "code",
   "execution_count": 2,
   "id": "e3b883d0-056a-40ab-ab54-630561351c6e",
   "metadata": {},
   "outputs": [],
   "source": [
    "def random_inputs(Path, var, runs, input_vars):\n",
    "    \n",
    "    # Create random input variables based on the path info\n",
    "    for i in range(0,len(Path1)):\n",
    "        if input_vars[0] == 1:\n",
    "            Path[i,0] = np.random.uniform(1,5)\n",
    "        if input_vars[1] == 1:\n",
    "            Path[i,1] = np.random.uniform(1,5)\n",
    "        if input_vars[2] == 1:\n",
    "            Path[i,2] = np.random.uniform(0,8.5)\n",
    "        if input_vars[3] == 1:\n",
    "            Path[i,3] = np.random.uniform(0.5,6)\n",
    "        if input_vars[4] == 1:\n",
    "            Path[i,4] = np.random.uniform(-2,9)\n",
    "        if input_vars[5] == 1:\n",
    "            Path[i,5] = np.random.uniform(1.5,10)\n",
    "        if input_vars[6] == 1:\n",
    "            Path[i,6] = np.random.uniform(-3.5,4)\n",
    "        if input_vars[7] == 1:\n",
    "            Path[i,7] = np.random.uniform(-3.5,2.5)\n",
    "        if input_vars[8] == 1:\n",
    "            Path[i,8] = np.random.uniform(-4,3)\n",
    "        if input_vars[9] == 1:\n",
    "            Path[i,9] = np.random.uniform(1,10)\n",
    "    \n",
    "    # Return path matrix\n",
    "    return Path"
   ]
  },
  {
   "cell_type": "markdown",
   "id": "d8e3ce8a-32b6-47e5-93cd-c9b2ebf9f819",
   "metadata": {
    "tags": []
   },
   "source": [
    "## Analysis Subroutines\n",
    "\n",
    "*Defining the analysis functions that will be called on later.*"
   ]
  },
  {
   "cell_type": "code",
   "execution_count": 3,
   "id": "52a3d4db-9466-4945-a71a-e1e0891e28bf",
   "metadata": {},
   "outputs": [],
   "source": [
    "# Analysis 1 - forward and backward\n",
    "def analysis1(number1, number2):\n",
    "    number3 = number1 + number2\n",
    "    return number3\n",
    "\n",
    "def analysis1_back(number3, number1or2):\n",
    "    number2or1 = number3 - number1or2\n",
    "    return number2or1\n",
    "\n",
    "\n",
    "# Analysis 1 & 2 Combined\n",
    "def analysis12(number1, number5, number6):\n",
    "    number4 = ((-1/2) + ((1/2)**2 - 4*1*(number5 - number1 - number6/2))**(1/2)) / (2*1)\n",
    "    return number4\n",
    "\n",
    "\n",
    "# Analysis 2\n",
    "def analysis2(number2, number3, number4):\n",
    "    number5 = number3 - number4**2\n",
    "    number6 = 2*number2 + number4\n",
    "    return number5, number6\n",
    "\n",
    "def analysis2_back4(number5, number6, number4):\n",
    "    number2 = (number6 - number4) / 2\n",
    "    number3 = number5 + number4**2\n",
    "    return number2, number3\n",
    "    \n",
    "\n",
    "# Analysis 3\n",
    "def analysis3(number5, number6, number7):\n",
    "    number8 = number5 + number6**(1/2) - number7\n",
    "    return number8\n",
    "\n",
    "def analysis3_back7(number5, number6, number8):\n",
    "    number7 = number5 + number6**(1/2) - number8\n",
    "    return number7\n",
    "\n",
    "\n",
    "# Analysis 4\n",
    "def analysis4(number8, number9, number1):\n",
    "    number10 = number8 - 2*(number9 + number1**3)\n",
    "    return number10"
   ]
  },
  {
   "cell_type": "markdown",
   "id": "016c324c-1803-40b7-bc19-51c53e50770b",
   "metadata": {},
   "source": [
    "## Variable Checking Subroutine\n",
    "\n",
    "*Checking that the variables fall within their bounds regardless of the path and variations.*"
   ]
  },
  {
   "cell_type": "code",
   "execution_count": 4,
   "id": "df99734a-3397-43a4-b44d-04f904116319",
   "metadata": {},
   "outputs": [],
   "source": [
    "def variable_checker(Path, Path_success):\n",
    "    \n",
    "    # Check variable ranges\n",
    "    for i in range(0,len(Path)):\n",
    "        if Path[i,0] >= 1 and Path[i,0] < 5:\n",
    "            Path_success[0] += 1\n",
    "        if Path[i,1] >=1 and Path[i,1] < 5:\n",
    "            Path_success[1] += 1\n",
    "        if Path[i,2] >= 0 and Path[i,2] < 8.5:\n",
    "            Path_success[2] += 1\n",
    "        if Path[i,3] >= 0.5 and Path[i,3] < 6:\n",
    "            Path_success[3] += 1\n",
    "        if Path[i,4] >= -2 and Path[i,4] < 9:\n",
    "            Path_success[4] += 1\n",
    "        if Path[i,5] >= 1.5 and Path[i,5] < 10:\n",
    "            Path_success[5] += 1\n",
    "        if Path[i,6] >= -3.5 and Path[i,6] < 4:\n",
    "            Path_success[6] += 1\n",
    "        if Path[i,7] >= -3.5 and Path[i,7] < 2.5:\n",
    "            Path_success[7] += 1\n",
    "        if Path[i,8] >= -4 and Path[i,8] < 3:\n",
    "            Path_success[8] += 1\n",
    "        if Path[i,9] >= 1 and Path[i,9] < 10:\n",
    "            Path_success[9] += 1\n",
    "    \n",
    "    return Path_success"
   ]
  },
  {
   "cell_type": "markdown",
   "id": "1d180fdd-fe66-41a0-82f3-af74c3cc941f",
   "metadata": {},
   "source": [
    "## Variable Success Subroutine\n",
    "\n",
    "*Convert successful results into a percentage for each variable of a path.*"
   ]
  },
  {
   "cell_type": "code",
   "execution_count": 5,
   "id": "d81b4fe8-53a2-461c-ace9-4863bca05b65",
   "metadata": {},
   "outputs": [],
   "source": [
    "def success_percent(Path_success, Path):\n",
    "    Path_success_percent = np.around(Path_success / len(Path) * 100, 2)\n",
    "    return Path_success_percent"
   ]
  },
  {
   "cell_type": "markdown",
   "id": "f2a553b2-52b4-4cdf-ba6f-4b3eab36e449",
   "metadata": {},
   "source": [
    "## Random Inputs\n",
    "\n",
    "*Assigning random float values to the necessary inputs of each path within the respective variable bounds.*"
   ]
  },
  {
   "cell_type": "code",
   "execution_count": 6,
   "id": "e12582da-59df-4a34-81c6-c187b0a48a19",
   "metadata": {},
   "outputs": [],
   "source": [
    "# Define number of polynomial variables and runs for each path and input variable vector\n",
    "Var = 10\n",
    "Runs = 10000\n",
    "\n",
    "# Define path matrices and fill with zeros\n",
    "Path1 = np.zeros((Runs, Var))\n",
    "Path2 = np.zeros((Runs, Var))\n",
    "Path3 = np.zeros((Runs, Var))\n",
    "Path4 = np.zeros((Runs, Var))\n",
    "\n",
    "# Populate each path array with the neccessary randomized input variables (1 indicates a variable needing an input for specific path)\n",
    "Path1 = random_inputs(Path1, Var, Runs, [1, 1, 0, 1, 0, 0, 1, 0, 1, 0])\n",
    "Path2 = random_inputs(Path2, Var, Runs, [0, 1, 1, 1, 0, 0, 1, 0, 1, 0])\n",
    "Path3 = random_inputs(Path3, Var, Runs, [1, 0, 0, 0, 1, 1, 1, 0, 1, 0]) # Need either x1, x2, x3, or x4\n",
    "Path4 = random_inputs(Path4, Var, Runs, [1, 1, 0, 1, 0, 0, 0, 1, 1, 0]) # Need either x4, x5, x6, or x7"
   ]
  },
  {
   "cell_type": "markdown",
   "id": "f8ea958e-ce0a-446d-b832-79280142971b",
   "metadata": {},
   "source": [
    "## Dependent Outputs\n",
    "\n",
    "*Calling the analysis functions to produce the variable outputs.*"
   ]
  },
  {
   "cell_type": "code",
   "execution_count": 7,
   "id": "ba1c0072-3853-49e7-8853-f0de229354ee",
   "metadata": {},
   "outputs": [
    {
     "name": "stderr",
     "output_type": "stream",
     "text": [
      "<ipython-input-3-bb944430dc8a>:13: RuntimeWarning: invalid value encountered in sqrt\n",
      "  number4 = ((-1/2) + ((1/2)**2 - 4*1*(number5 - number1 - number6/2))**(1/2)) / (2*1)\n"
     ]
    }
   ],
   "source": [
    "# Call analysis functions as necessary for first path\n",
    "Path1[:,2] = analysis1(Path1[:,0], Path1[:,1])\n",
    "Path1[:,4], Path1[:,5] = analysis2(Path1[:,1], Path1[:,2], Path1[:,3])\n",
    "Path1[:,7] = analysis3(Path1[:,4], Path1[:,5], Path1[:,6])\n",
    "Path1[:,9] = analysis4(Path1[:,7], Path1[:,8], Path1[:,0])\n",
    "\n",
    "# Call analysis functions as necessary for second path\n",
    "Path2[:,4], Path2[:,5] = analysis2(Path2[:,1], Path2[:,2], Path2[:,3])\n",
    "Path2[:,0] = analysis1_back(Path2[:,2], Path2[:,1])\n",
    "Path2[:,7] = analysis3(Path2[:,4], Path2[:,5], Path2[:,6])\n",
    "Path2[:,9] = analysis4(Path2[:,7], Path2[:,8], Path2[:,0])\n",
    "\n",
    "# Call analysis functions as necessary for third path\n",
    "Path3[:,7] = analysis3(Path3[:,4], Path3[:,5], Path3[:,6])\n",
    "Path3[:,9] = analysis4(Path3[:,7], Path3[:,8], Path3[:,0])\n",
    "Path3[:,3] = analysis12(Path3[:,0], Path3[:,4], Path3[:,5]) # Warning can pop up for a complex number\n",
    "Path3[:,1], Path3[:,2] = analysis2_back4(Path3[:,4], Path3[:,5], Path3[:,3])\n",
    "\n",
    "# Call analysis functions as necessary for fourth path\n",
    "Path4[:,9] = analysis4(Path4[:,7], Path4[:,8], Path4[:,0])\n",
    "Path4[:,2] = analysis1(Path4[:,0], Path4[:,1])\n",
    "Path4[:,4], Path4[:,5] = analysis2(Path4[:,1], Path4[:,2], Path4[:,3])\n",
    "Path4[:,6] = analysis3_back7(Path4[:,4], Path4[:,5], Path4[:,7])"
   ]
  },
  {
   "cell_type": "markdown",
   "id": "d2da47cb-e2c8-4196-9350-c39dd5caf4c5",
   "metadata": {},
   "source": [
    "## Path Dependency Statitistics\n",
    "\n",
    "*Calculating the percentage of variables that fall within their given bounds for each path.*"
   ]
  },
  {
   "cell_type": "code",
   "execution_count": 8,
   "id": "cb5ab7ac-6c68-444b-80df-08693783fb2d",
   "metadata": {},
   "outputs": [],
   "source": [
    "# Create array that tracks successful bounds for each variable of each path\n",
    "Path1_success = np.zeros(len(Path1[0]))\n",
    "Path2_success = np.zeros(len(Path2[0]))\n",
    "Path3_success = np.zeros(len(Path3[0]))\n",
    "Path4_success = np.zeros(len(Path4[0]))\n",
    "\n",
    "# Loop through all of the variables checking their bounds for each path\n",
    "Path1_success = variable_checker(Path1, Path1_success)\n",
    "Path2_success = variable_checker(Path2, Path2_success)\n",
    "Path3_success = variable_checker(Path3, Path3_success)\n",
    "Path4_success = variable_checker(Path4, Path4_success)\n",
    "    \n",
    "# Turn successful runs into a percentage for each variable of each path\n",
    "Path1_success = success_percent(Path1_success, Path1)\n",
    "Path2_success = success_percent(Path2_success, Path2)\n",
    "Path3_success = success_percent(Path3_success, Path3)\n",
    "Path4_success = success_percent(Path4_success, Path4)"
   ]
  },
  {
   "cell_type": "markdown",
   "id": "40e7ce9a-cb26-41ed-ba04-e6c6da5b584c",
   "metadata": {},
   "source": [
    "## Results\n",
    "\n",
    "*Displaying the results for each path.*"
   ]
  },
  {
   "cell_type": "code",
   "execution_count": 9,
   "id": "9632a575-1855-497a-bc77-5d1497b9490c",
   "metadata": {},
   "outputs": [
    {
     "data": {
      "image/png": "[encoded data removed]",
      "text/plain": [
       "<Figure size 432x288 with 1 Axes>"
      ]
     },
     "metadata": {
      "needs_background": "light"
     },
     "output_type": "display_data"
    }
   ],
   "source": [
    "# Create a bar plot for all of the variables of all of the runs\n",
    "x = np.arange(10)\n",
    "x_data = ['x1', 'x2', 'x3', 'x4', 'x5', 'x6', 'x7', 'x8', 'x9', 'x10']\n",
    "plt.title(\"Polynomial Model - 4 Paths\")\n",
    "plt.bar(x-0.3, Path1_success, color = 'red', width = 0.2)\n",
    "plt.bar(x-0.1, Path2_success, color = 'green', width = 0.2)\n",
    "plt.bar(x+0.1, Path3_success, color = 'blue', width = 0.2)\n",
    "plt.bar(x+0.3, Path4_success, color = 'brown', width = 0.2)\n",
    "plt.xticks(x, x_data)\n",
    "plt.xlabel(\"Polynomial Model Variables\")\n",
    "plt.ylabel(\"Percent within Range\")\n",
    "plt.legend([\"Path1\", \"Path2\", \"Path3\", \"Path4\"], loc='upper right')\n",
    "plt.show()"
   ]
  },
  {
   "cell_type": "code",
   "execution_count": null,
   "id": "c4e2ce6f-e2eb-4633-a74f-a67e915ce241",
   "metadata": {},
   "outputs": [],
   "source": []
  },
  {
   "cell_type": "code",
   "execution_count": null,
   "id": "c2963f57-338c-4f20-a821-999eaf464038",
   "metadata": {},
   "outputs": [],
   "source": []
  },
  {
   "cell_type": "code",
   "execution_count": null,
   "id": "557bce65-dc45-48af-abeb-7d0bbcf48045",
   "metadata": {},
   "outputs": [],
   "source": []
  }
 ],
 "metadata": {
  "kernelspec": {
   "display_name": "Python 3",
   "language": "python",
   "name": "python3"
  },
  "language_info": {
   "codemirror_mode": {
    "name": "ipython",
    "version": 3
   },
   "file_extension": ".py",
   "mimetype": "text/x-python",
   "name": "python",
   "nbconvert_exporter": "python",
   "pygments_lexer": "ipython3",
   "version": "3.8.8"
  }
 },
 "nbformat": 4,
 "nbformat_minor": 5
}
