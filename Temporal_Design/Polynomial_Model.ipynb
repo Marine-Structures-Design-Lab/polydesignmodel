{
 "cells": [
  {
   "cell_type": "markdown",
   "id": "d463e297-5f8a-464b-8398-8d3fa00d71cd",
   "metadata": {},
   "source": [
    "Defines the polynomial function for Analysis 1"
   ]
  },
  {
   "cell_type": "code",
   "execution_count": 1,
   "id": "52a3d4db-9466-4945-a71a-e1e0891e28bf",
   "metadata": {},
   "outputs": [],
   "source": [
    "def analysis_1(number1, number2):\n",
    "    number3 = number1 + number2\n",
    "    return number3"
   ]
  },
  {
   "cell_type": "markdown",
   "id": "20746dda-4cda-4a6e-8e72-f6402a23a4fc",
   "metadata": {},
   "source": [
    "Defines the polynomial functions for Analysis 2"
   ]
  },
  {
   "cell_type": "code",
   "execution_count": 2,
   "id": "66060fa6-1f7b-4122-8f4f-3d2a9d26ce59",
   "metadata": {},
   "outputs": [],
   "source": [
    "def analysis_2(number2, number3, number4):\n",
    "    number5 = number3 - number4**2\n",
    "    number6 = 2*number2 + number4\n",
    "    return number5, number6"
   ]
  },
  {
   "cell_type": "markdown",
   "id": "2bbd832a-5ada-4c9a-b2ae-e5b04d787a5a",
   "metadata": {},
   "source": [
    "Defines the polynomial function for Analysis 3"
   ]
  },
  {
   "cell_type": "code",
   "execution_count": 3,
   "id": "a0050dbc-782b-496f-90b4-ed586fe82a98",
   "metadata": {},
   "outputs": [],
   "source": [
    "def analysis_3(number5, number6, number7):\n",
    "    number8 = number5 + number6**(1/2) - number7\n",
    "    return number8"
   ]
  },
  {
   "cell_type": "markdown",
   "id": "83e3ec4e-b98a-4768-ae98-270983da4f6b",
   "metadata": {},
   "source": [
    "Defines polynomial function for Analysis 4"
   ]
  },
  {
   "cell_type": "code",
   "execution_count": 4,
   "id": "1dcdfa42-3f68-4bc1-a58a-94c52534a824",
   "metadata": {},
   "outputs": [],
   "source": [
    "def analysis_4(number8, number9, number1):\n",
    "    number10 = number8 - 2*(number9 + number1**3)\n",
    "    return number10"
   ]
  },
  {
   "cell_type": "markdown",
   "id": "f8ea958e-ce0a-446d-b832-79280142971b",
   "metadata": {},
   "source": [
    "Assign numbers to X vector where X = [x1 x2 x3 x4 x5 x6 x7 x8 x9 x10]\n",
    "\n",
    "First run through analysis 1\n",
    "\n",
    "Eventually need to randomize numbers and create a matrix of 1000 combos of numbers to be assigned"
   ]
  },
  {
   "cell_type": "code",
   "execution_count": 5,
   "id": "ba1c0072-3853-49e7-8853-f0de229354ee",
   "metadata": {},
   "outputs": [],
   "source": [
    "x = [2, 3, 0, 5, 0, 0, -1, 0, 1, 0]"
   ]
  },
  {
   "cell_type": "markdown",
   "id": "d2da47cb-e2c8-4196-9350-c39dd5caf4c5",
   "metadata": {},
   "source": [
    "Change the X matrix values that are dependent on the independent values"
   ]
  },
  {
   "cell_type": "code",
   "execution_count": 6,
   "id": "afff6646-d298-4f5f-a44a-d5ba7710365f",
   "metadata": {},
   "outputs": [],
   "source": [
    "x[2] = analysis_1(x[0], x[1])\n",
    "x[4], x[5] = analysis_2(x[1], x[2], x[3])\n",
    "x[7] = analysis_3(x[4], x[5], x[6])\n",
    "x[9] = analysis_4(x[7], x[8], x[0])"
   ]
  },
  {
   "cell_type": "code",
   "execution_count": 7,
   "id": "9c91182e-2beb-4650-9bb4-6122c24efef0",
   "metadata": {},
   "outputs": [
    {
     "name": "stdout",
     "output_type": "stream",
     "text": [
      "[2, 3, 5, 5, -20, 11, -1, -15.683375209644602, 1, -33.6833752096446]\n"
     ]
    }
   ],
   "source": [
    "print(x)"
   ]
  }
 ],
 "metadata": {
  "kernelspec": {
   "display_name": "Python 3 (ipykernel)",
   "language": "python",
   "name": "python3"
  },
  "language_info": {
   "codemirror_mode": {
    "name": "ipython",
    "version": 3
   },
   "file_extension": ".py",
   "mimetype": "text/x-python",
   "name": "python",
   "nbconvert_exporter": "python",
   "pygments_lexer": "ipython3",
   "version": "3.9.4"
  }
 },
 "nbformat": 4,
 "nbformat_minor": 5
}
